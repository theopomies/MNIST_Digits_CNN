{
 "cells": [
  {
   "cell_type": "code",
   "execution_count": 1,
   "id": "016daa83",
   "metadata": {
    "_cell_guid": "b1076dfc-b9ad-4769-8c92-a6c4dae69d19",
    "_uuid": "8f2839f25d086af736a60e9eeb907d3b93b6e0e5",
    "execution": {
     "iopub.execute_input": "2023-08-04T14:15:07.363305Z",
     "iopub.status.busy": "2023-08-04T14:15:07.362221Z",
     "iopub.status.idle": "2023-08-04T14:15:07.379040Z",
     "shell.execute_reply": "2023-08-04T14:15:07.378120Z"
    },
    "papermill": {
     "duration": 0.028991,
     "end_time": "2023-08-04T14:15:07.381178",
     "exception": false,
     "start_time": "2023-08-04T14:15:07.352187",
     "status": "completed"
    },
    "tags": []
   },
   "outputs": [
    {
     "name": "stdout",
     "output_type": "stream",
     "text": [
      "/kaggle/input/digit-recognizer/sample_submission.csv\n",
      "/kaggle/input/digit-recognizer/train.csv\n",
      "/kaggle/input/digit-recognizer/test.csv\n"
     ]
    }
   ],
   "source": [
    "# This Python 3 environment comes with many helpful analytics libraries installed\n",
    "# It is defined by the kaggle/python Docker image: https://github.com/kaggle/docker-python\n",
    "# For example, here's several helpful packages to load\n",
    "\n",
    "import numpy as np # linear algebra\n",
    "import pandas as pd # data processing, CSV file I/O (e.g. pd.read_csv)\n",
    "\n",
    "# Input data files are available in the read-only \"../input/\" directory\n",
    "# For example, running this (by clicking run or pressing Shift+Enter) will list all files under the input directory\n",
    "\n",
    "import os\n",
    "for dirname, _, filenames in os.walk('/kaggle/input'):\n",
    "    for filename in filenames:\n",
    "        print(os.path.join(dirname, filename))\n",
    "\n",
    "# You can write up to 20GB to the current directory (/kaggle/working/) that gets preserved as output when you create a version using \"Save & Run All\" \n",
    "# You can also write temporary files to /kaggle/temp/, but they won't be saved outside of the current session"
   ]
  },
  {
   "cell_type": "code",
   "execution_count": 2,
   "id": "85ade2eb",
   "metadata": {
    "execution": {
     "iopub.execute_input": "2023-08-04T14:15:07.397286Z",
     "iopub.status.busy": "2023-08-04T14:15:07.396950Z",
     "iopub.status.idle": "2023-08-04T14:15:13.074476Z",
     "shell.execute_reply": "2023-08-04T14:15:13.073520Z"
    },
    "papermill": {
     "duration": 5.688238,
     "end_time": "2023-08-04T14:15:13.076911",
     "exception": false,
     "start_time": "2023-08-04T14:15:07.388673",
     "status": "completed"
    },
    "tags": []
   },
   "outputs": [],
   "source": [
    "data = pd.read_csv('/kaggle/input/digit-recognizer/train.csv')\n",
    "test = pd.read_csv('/kaggle/input/digit-recognizer/test.csv')"
   ]
  },
  {
   "cell_type": "code",
   "execution_count": 3,
   "id": "8d32f102",
   "metadata": {
    "execution": {
     "iopub.execute_input": "2023-08-04T14:15:13.094611Z",
     "iopub.status.busy": "2023-08-04T14:15:13.092877Z",
     "iopub.status.idle": "2023-08-04T14:15:15.436904Z",
     "shell.execute_reply": "2023-08-04T14:15:15.435965Z"
    },
    "papermill": {
     "duration": 2.354713,
     "end_time": "2023-08-04T14:15:15.439106",
     "exception": false,
     "start_time": "2023-08-04T14:15:13.084393",
     "status": "completed"
    },
    "tags": []
   },
   "outputs": [
    {
     "data": {
      "text/html": [
       "<div>\n",
       "<style scoped>\n",
       "    .dataframe tbody tr th:only-of-type {\n",
       "        vertical-align: middle;\n",
       "    }\n",
       "\n",
       "    .dataframe tbody tr th {\n",
       "        vertical-align: top;\n",
       "    }\n",
       "\n",
       "    .dataframe thead th {\n",
       "        text-align: right;\n",
       "    }\n",
       "</style>\n",
       "<table border=\"1\" class=\"dataframe\">\n",
       "  <thead>\n",
       "    <tr style=\"text-align: right;\">\n",
       "      <th></th>\n",
       "      <th>label</th>\n",
       "      <th>pixel0</th>\n",
       "      <th>pixel1</th>\n",
       "      <th>pixel2</th>\n",
       "      <th>pixel3</th>\n",
       "      <th>pixel4</th>\n",
       "      <th>pixel5</th>\n",
       "      <th>pixel6</th>\n",
       "      <th>pixel7</th>\n",
       "      <th>pixel8</th>\n",
       "      <th>...</th>\n",
       "      <th>pixel774</th>\n",
       "      <th>pixel775</th>\n",
       "      <th>pixel776</th>\n",
       "      <th>pixel777</th>\n",
       "      <th>pixel778</th>\n",
       "      <th>pixel779</th>\n",
       "      <th>pixel780</th>\n",
       "      <th>pixel781</th>\n",
       "      <th>pixel782</th>\n",
       "      <th>pixel783</th>\n",
       "    </tr>\n",
       "  </thead>\n",
       "  <tbody>\n",
       "    <tr>\n",
       "      <th>count</th>\n",
       "      <td>42000.000000</td>\n",
       "      <td>42000.0</td>\n",
       "      <td>42000.0</td>\n",
       "      <td>42000.0</td>\n",
       "      <td>42000.0</td>\n",
       "      <td>42000.0</td>\n",
       "      <td>42000.0</td>\n",
       "      <td>42000.0</td>\n",
       "      <td>42000.0</td>\n",
       "      <td>42000.0</td>\n",
       "      <td>...</td>\n",
       "      <td>42000.000000</td>\n",
       "      <td>42000.000000</td>\n",
       "      <td>42000.000000</td>\n",
       "      <td>42000.00000</td>\n",
       "      <td>42000.000000</td>\n",
       "      <td>42000.000000</td>\n",
       "      <td>42000.0</td>\n",
       "      <td>42000.0</td>\n",
       "      <td>42000.0</td>\n",
       "      <td>42000.0</td>\n",
       "    </tr>\n",
       "    <tr>\n",
       "      <th>mean</th>\n",
       "      <td>4.456643</td>\n",
       "      <td>0.0</td>\n",
       "      <td>0.0</td>\n",
       "      <td>0.0</td>\n",
       "      <td>0.0</td>\n",
       "      <td>0.0</td>\n",
       "      <td>0.0</td>\n",
       "      <td>0.0</td>\n",
       "      <td>0.0</td>\n",
       "      <td>0.0</td>\n",
       "      <td>...</td>\n",
       "      <td>0.219286</td>\n",
       "      <td>0.117095</td>\n",
       "      <td>0.059024</td>\n",
       "      <td>0.02019</td>\n",
       "      <td>0.017238</td>\n",
       "      <td>0.002857</td>\n",
       "      <td>0.0</td>\n",
       "      <td>0.0</td>\n",
       "      <td>0.0</td>\n",
       "      <td>0.0</td>\n",
       "    </tr>\n",
       "    <tr>\n",
       "      <th>std</th>\n",
       "      <td>2.887730</td>\n",
       "      <td>0.0</td>\n",
       "      <td>0.0</td>\n",
       "      <td>0.0</td>\n",
       "      <td>0.0</td>\n",
       "      <td>0.0</td>\n",
       "      <td>0.0</td>\n",
       "      <td>0.0</td>\n",
       "      <td>0.0</td>\n",
       "      <td>0.0</td>\n",
       "      <td>...</td>\n",
       "      <td>6.312890</td>\n",
       "      <td>4.633819</td>\n",
       "      <td>3.274488</td>\n",
       "      <td>1.75987</td>\n",
       "      <td>1.894498</td>\n",
       "      <td>0.414264</td>\n",
       "      <td>0.0</td>\n",
       "      <td>0.0</td>\n",
       "      <td>0.0</td>\n",
       "      <td>0.0</td>\n",
       "    </tr>\n",
       "    <tr>\n",
       "      <th>min</th>\n",
       "      <td>0.000000</td>\n",
       "      <td>0.0</td>\n",
       "      <td>0.0</td>\n",
       "      <td>0.0</td>\n",
       "      <td>0.0</td>\n",
       "      <td>0.0</td>\n",
       "      <td>0.0</td>\n",
       "      <td>0.0</td>\n",
       "      <td>0.0</td>\n",
       "      <td>0.0</td>\n",
       "      <td>...</td>\n",
       "      <td>0.000000</td>\n",
       "      <td>0.000000</td>\n",
       "      <td>0.000000</td>\n",
       "      <td>0.00000</td>\n",
       "      <td>0.000000</td>\n",
       "      <td>0.000000</td>\n",
       "      <td>0.0</td>\n",
       "      <td>0.0</td>\n",
       "      <td>0.0</td>\n",
       "      <td>0.0</td>\n",
       "    </tr>\n",
       "    <tr>\n",
       "      <th>25%</th>\n",
       "      <td>2.000000</td>\n",
       "      <td>0.0</td>\n",
       "      <td>0.0</td>\n",
       "      <td>0.0</td>\n",
       "      <td>0.0</td>\n",
       "      <td>0.0</td>\n",
       "      <td>0.0</td>\n",
       "      <td>0.0</td>\n",
       "      <td>0.0</td>\n",
       "      <td>0.0</td>\n",
       "      <td>...</td>\n",
       "      <td>0.000000</td>\n",
       "      <td>0.000000</td>\n",
       "      <td>0.000000</td>\n",
       "      <td>0.00000</td>\n",
       "      <td>0.000000</td>\n",
       "      <td>0.000000</td>\n",
       "      <td>0.0</td>\n",
       "      <td>0.0</td>\n",
       "      <td>0.0</td>\n",
       "      <td>0.0</td>\n",
       "    </tr>\n",
       "    <tr>\n",
       "      <th>50%</th>\n",
       "      <td>4.000000</td>\n",
       "      <td>0.0</td>\n",
       "      <td>0.0</td>\n",
       "      <td>0.0</td>\n",
       "      <td>0.0</td>\n",
       "      <td>0.0</td>\n",
       "      <td>0.0</td>\n",
       "      <td>0.0</td>\n",
       "      <td>0.0</td>\n",
       "      <td>0.0</td>\n",
       "      <td>...</td>\n",
       "      <td>0.000000</td>\n",
       "      <td>0.000000</td>\n",
       "      <td>0.000000</td>\n",
       "      <td>0.00000</td>\n",
       "      <td>0.000000</td>\n",
       "      <td>0.000000</td>\n",
       "      <td>0.0</td>\n",
       "      <td>0.0</td>\n",
       "      <td>0.0</td>\n",
       "      <td>0.0</td>\n",
       "    </tr>\n",
       "    <tr>\n",
       "      <th>75%</th>\n",
       "      <td>7.000000</td>\n",
       "      <td>0.0</td>\n",
       "      <td>0.0</td>\n",
       "      <td>0.0</td>\n",
       "      <td>0.0</td>\n",
       "      <td>0.0</td>\n",
       "      <td>0.0</td>\n",
       "      <td>0.0</td>\n",
       "      <td>0.0</td>\n",
       "      <td>0.0</td>\n",
       "      <td>...</td>\n",
       "      <td>0.000000</td>\n",
       "      <td>0.000000</td>\n",
       "      <td>0.000000</td>\n",
       "      <td>0.00000</td>\n",
       "      <td>0.000000</td>\n",
       "      <td>0.000000</td>\n",
       "      <td>0.0</td>\n",
       "      <td>0.0</td>\n",
       "      <td>0.0</td>\n",
       "      <td>0.0</td>\n",
       "    </tr>\n",
       "    <tr>\n",
       "      <th>max</th>\n",
       "      <td>9.000000</td>\n",
       "      <td>0.0</td>\n",
       "      <td>0.0</td>\n",
       "      <td>0.0</td>\n",
       "      <td>0.0</td>\n",
       "      <td>0.0</td>\n",
       "      <td>0.0</td>\n",
       "      <td>0.0</td>\n",
       "      <td>0.0</td>\n",
       "      <td>0.0</td>\n",
       "      <td>...</td>\n",
       "      <td>254.000000</td>\n",
       "      <td>254.000000</td>\n",
       "      <td>253.000000</td>\n",
       "      <td>253.00000</td>\n",
       "      <td>254.000000</td>\n",
       "      <td>62.000000</td>\n",
       "      <td>0.0</td>\n",
       "      <td>0.0</td>\n",
       "      <td>0.0</td>\n",
       "      <td>0.0</td>\n",
       "    </tr>\n",
       "  </tbody>\n",
       "</table>\n",
       "<p>8 rows × 785 columns</p>\n",
       "</div>"
      ],
      "text/plain": [
       "              label   pixel0   pixel1   pixel2   pixel3   pixel4   pixel5  \\\n",
       "count  42000.000000  42000.0  42000.0  42000.0  42000.0  42000.0  42000.0   \n",
       "mean       4.456643      0.0      0.0      0.0      0.0      0.0      0.0   \n",
       "std        2.887730      0.0      0.0      0.0      0.0      0.0      0.0   \n",
       "min        0.000000      0.0      0.0      0.0      0.0      0.0      0.0   \n",
       "25%        2.000000      0.0      0.0      0.0      0.0      0.0      0.0   \n",
       "50%        4.000000      0.0      0.0      0.0      0.0      0.0      0.0   \n",
       "75%        7.000000      0.0      0.0      0.0      0.0      0.0      0.0   \n",
       "max        9.000000      0.0      0.0      0.0      0.0      0.0      0.0   \n",
       "\n",
       "        pixel6   pixel7   pixel8  ...      pixel774      pixel775  \\\n",
       "count  42000.0  42000.0  42000.0  ...  42000.000000  42000.000000   \n",
       "mean       0.0      0.0      0.0  ...      0.219286      0.117095   \n",
       "std        0.0      0.0      0.0  ...      6.312890      4.633819   \n",
       "min        0.0      0.0      0.0  ...      0.000000      0.000000   \n",
       "25%        0.0      0.0      0.0  ...      0.000000      0.000000   \n",
       "50%        0.0      0.0      0.0  ...      0.000000      0.000000   \n",
       "75%        0.0      0.0      0.0  ...      0.000000      0.000000   \n",
       "max        0.0      0.0      0.0  ...    254.000000    254.000000   \n",
       "\n",
       "           pixel776     pixel777      pixel778      pixel779  pixel780  \\\n",
       "count  42000.000000  42000.00000  42000.000000  42000.000000   42000.0   \n",
       "mean       0.059024      0.02019      0.017238      0.002857       0.0   \n",
       "std        3.274488      1.75987      1.894498      0.414264       0.0   \n",
       "min        0.000000      0.00000      0.000000      0.000000       0.0   \n",
       "25%        0.000000      0.00000      0.000000      0.000000       0.0   \n",
       "50%        0.000000      0.00000      0.000000      0.000000       0.0   \n",
       "75%        0.000000      0.00000      0.000000      0.000000       0.0   \n",
       "max      253.000000    253.00000    254.000000     62.000000       0.0   \n",
       "\n",
       "       pixel781  pixel782  pixel783  \n",
       "count   42000.0   42000.0   42000.0  \n",
       "mean        0.0       0.0       0.0  \n",
       "std         0.0       0.0       0.0  \n",
       "min         0.0       0.0       0.0  \n",
       "25%         0.0       0.0       0.0  \n",
       "50%         0.0       0.0       0.0  \n",
       "75%         0.0       0.0       0.0  \n",
       "max         0.0       0.0       0.0  \n",
       "\n",
       "[8 rows x 785 columns]"
      ]
     },
     "execution_count": 3,
     "metadata": {},
     "output_type": "execute_result"
    }
   ],
   "source": [
    "data.describe()"
   ]
  },
  {
   "cell_type": "code",
   "execution_count": 4,
   "id": "8ca5713a",
   "metadata": {
    "execution": {
     "iopub.execute_input": "2023-08-04T14:15:15.457960Z",
     "iopub.status.busy": "2023-08-04T14:15:15.457578Z",
     "iopub.status.idle": "2023-08-04T14:15:15.474185Z",
     "shell.execute_reply": "2023-08-04T14:15:15.473126Z"
    },
    "papermill": {
     "duration": 0.030425,
     "end_time": "2023-08-04T14:15:15.477308",
     "exception": false,
     "start_time": "2023-08-04T14:15:15.446883",
     "status": "completed"
    },
    "tags": []
   },
   "outputs": [
    {
     "data": {
      "text/html": [
       "<div>\n",
       "<style scoped>\n",
       "    .dataframe tbody tr th:only-of-type {\n",
       "        vertical-align: middle;\n",
       "    }\n",
       "\n",
       "    .dataframe tbody tr th {\n",
       "        vertical-align: top;\n",
       "    }\n",
       "\n",
       "    .dataframe thead th {\n",
       "        text-align: right;\n",
       "    }\n",
       "</style>\n",
       "<table border=\"1\" class=\"dataframe\">\n",
       "  <thead>\n",
       "    <tr style=\"text-align: right;\">\n",
       "      <th></th>\n",
       "      <th>label</th>\n",
       "      <th>pixel0</th>\n",
       "      <th>pixel1</th>\n",
       "      <th>pixel2</th>\n",
       "      <th>pixel3</th>\n",
       "      <th>pixel4</th>\n",
       "      <th>pixel5</th>\n",
       "      <th>pixel6</th>\n",
       "      <th>pixel7</th>\n",
       "      <th>pixel8</th>\n",
       "      <th>...</th>\n",
       "      <th>pixel774</th>\n",
       "      <th>pixel775</th>\n",
       "      <th>pixel776</th>\n",
       "      <th>pixel777</th>\n",
       "      <th>pixel778</th>\n",
       "      <th>pixel779</th>\n",
       "      <th>pixel780</th>\n",
       "      <th>pixel781</th>\n",
       "      <th>pixel782</th>\n",
       "      <th>pixel783</th>\n",
       "    </tr>\n",
       "  </thead>\n",
       "  <tbody>\n",
       "    <tr>\n",
       "      <th>0</th>\n",
       "      <td>1</td>\n",
       "      <td>0</td>\n",
       "      <td>0</td>\n",
       "      <td>0</td>\n",
       "      <td>0</td>\n",
       "      <td>0</td>\n",
       "      <td>0</td>\n",
       "      <td>0</td>\n",
       "      <td>0</td>\n",
       "      <td>0</td>\n",
       "      <td>...</td>\n",
       "      <td>0</td>\n",
       "      <td>0</td>\n",
       "      <td>0</td>\n",
       "      <td>0</td>\n",
       "      <td>0</td>\n",
       "      <td>0</td>\n",
       "      <td>0</td>\n",
       "      <td>0</td>\n",
       "      <td>0</td>\n",
       "      <td>0</td>\n",
       "    </tr>\n",
       "    <tr>\n",
       "      <th>1</th>\n",
       "      <td>0</td>\n",
       "      <td>0</td>\n",
       "      <td>0</td>\n",
       "      <td>0</td>\n",
       "      <td>0</td>\n",
       "      <td>0</td>\n",
       "      <td>0</td>\n",
       "      <td>0</td>\n",
       "      <td>0</td>\n",
       "      <td>0</td>\n",
       "      <td>...</td>\n",
       "      <td>0</td>\n",
       "      <td>0</td>\n",
       "      <td>0</td>\n",
       "      <td>0</td>\n",
       "      <td>0</td>\n",
       "      <td>0</td>\n",
       "      <td>0</td>\n",
       "      <td>0</td>\n",
       "      <td>0</td>\n",
       "      <td>0</td>\n",
       "    </tr>\n",
       "    <tr>\n",
       "      <th>2</th>\n",
       "      <td>1</td>\n",
       "      <td>0</td>\n",
       "      <td>0</td>\n",
       "      <td>0</td>\n",
       "      <td>0</td>\n",
       "      <td>0</td>\n",
       "      <td>0</td>\n",
       "      <td>0</td>\n",
       "      <td>0</td>\n",
       "      <td>0</td>\n",
       "      <td>...</td>\n",
       "      <td>0</td>\n",
       "      <td>0</td>\n",
       "      <td>0</td>\n",
       "      <td>0</td>\n",
       "      <td>0</td>\n",
       "      <td>0</td>\n",
       "      <td>0</td>\n",
       "      <td>0</td>\n",
       "      <td>0</td>\n",
       "      <td>0</td>\n",
       "    </tr>\n",
       "    <tr>\n",
       "      <th>3</th>\n",
       "      <td>4</td>\n",
       "      <td>0</td>\n",
       "      <td>0</td>\n",
       "      <td>0</td>\n",
       "      <td>0</td>\n",
       "      <td>0</td>\n",
       "      <td>0</td>\n",
       "      <td>0</td>\n",
       "      <td>0</td>\n",
       "      <td>0</td>\n",
       "      <td>...</td>\n",
       "      <td>0</td>\n",
       "      <td>0</td>\n",
       "      <td>0</td>\n",
       "      <td>0</td>\n",
       "      <td>0</td>\n",
       "      <td>0</td>\n",
       "      <td>0</td>\n",
       "      <td>0</td>\n",
       "      <td>0</td>\n",
       "      <td>0</td>\n",
       "    </tr>\n",
       "    <tr>\n",
       "      <th>4</th>\n",
       "      <td>0</td>\n",
       "      <td>0</td>\n",
       "      <td>0</td>\n",
       "      <td>0</td>\n",
       "      <td>0</td>\n",
       "      <td>0</td>\n",
       "      <td>0</td>\n",
       "      <td>0</td>\n",
       "      <td>0</td>\n",
       "      <td>0</td>\n",
       "      <td>...</td>\n",
       "      <td>0</td>\n",
       "      <td>0</td>\n",
       "      <td>0</td>\n",
       "      <td>0</td>\n",
       "      <td>0</td>\n",
       "      <td>0</td>\n",
       "      <td>0</td>\n",
       "      <td>0</td>\n",
       "      <td>0</td>\n",
       "      <td>0</td>\n",
       "    </tr>\n",
       "  </tbody>\n",
       "</table>\n",
       "<p>5 rows × 785 columns</p>\n",
       "</div>"
      ],
      "text/plain": [
       "   label  pixel0  pixel1  pixel2  pixel3  pixel4  pixel5  pixel6  pixel7  \\\n",
       "0      1       0       0       0       0       0       0       0       0   \n",
       "1      0       0       0       0       0       0       0       0       0   \n",
       "2      1       0       0       0       0       0       0       0       0   \n",
       "3      4       0       0       0       0       0       0       0       0   \n",
       "4      0       0       0       0       0       0       0       0       0   \n",
       "\n",
       "   pixel8  ...  pixel774  pixel775  pixel776  pixel777  pixel778  pixel779  \\\n",
       "0       0  ...         0         0         0         0         0         0   \n",
       "1       0  ...         0         0         0         0         0         0   \n",
       "2       0  ...         0         0         0         0         0         0   \n",
       "3       0  ...         0         0         0         0         0         0   \n",
       "4       0  ...         0         0         0         0         0         0   \n",
       "\n",
       "   pixel780  pixel781  pixel782  pixel783  \n",
       "0         0         0         0         0  \n",
       "1         0         0         0         0  \n",
       "2         0         0         0         0  \n",
       "3         0         0         0         0  \n",
       "4         0         0         0         0  \n",
       "\n",
       "[5 rows x 785 columns]"
      ]
     },
     "execution_count": 4,
     "metadata": {},
     "output_type": "execute_result"
    }
   ],
   "source": [
    "data.head()"
   ]
  },
  {
   "cell_type": "code",
   "execution_count": 5,
   "id": "41a8478a",
   "metadata": {
    "execution": {
     "iopub.execute_input": "2023-08-04T14:15:15.495842Z",
     "iopub.status.busy": "2023-08-04T14:15:15.494950Z",
     "iopub.status.idle": "2023-08-04T14:15:19.556408Z",
     "shell.execute_reply": "2023-08-04T14:15:19.555346Z"
    },
    "papermill": {
     "duration": 4.073285,
     "end_time": "2023-08-04T14:15:19.559009",
     "exception": false,
     "start_time": "2023-08-04T14:15:15.485724",
     "status": "completed"
    },
    "tags": []
   },
   "outputs": [
    {
     "name": "stderr",
     "output_type": "stream",
     "text": [
      "/opt/conda/lib/python3.10/site-packages/scipy/__init__.py:146: UserWarning: A NumPy version >=1.16.5 and <1.23.0 is required for this version of SciPy (detected version 1.23.5\n",
      "  warnings.warn(f\"A NumPy version >={np_minversion} and <{np_maxversion}\"\n"
     ]
    }
   ],
   "source": [
    "import torch\n",
    "import torch.nn as nn\n",
    "import torch.nn.functional as F\n",
    "from torch.utils.data import DataLoader, TensorDataset\n",
    "import torchvision\n",
    "from sklearn.model_selection import train_test_split\n",
    "import matplotlib.pyplot as plt"
   ]
  },
  {
   "cell_type": "code",
   "execution_count": 6,
   "id": "257de14c",
   "metadata": {
    "execution": {
     "iopub.execute_input": "2023-08-04T14:15:19.578429Z",
     "iopub.status.busy": "2023-08-04T14:15:19.577851Z",
     "iopub.status.idle": "2023-08-04T14:15:20.017489Z",
     "shell.execute_reply": "2023-08-04T14:15:20.016476Z"
    },
    "papermill": {
     "duration": 0.451805,
     "end_time": "2023-08-04T14:15:20.019963",
     "exception": false,
     "start_time": "2023-08-04T14:15:19.568158",
     "status": "completed"
    },
    "tags": []
   },
   "outputs": [],
   "source": [
    "train, valid = train_test_split(data, test_size=0.1)\n",
    "\n",
    "Y_train = train[\"label\"]\n",
    "X_train = train.drop(labels = [\"label\"], axis = 1)\n",
    "X_train = X_train / 255.0\n",
    "\n",
    "Y_valid = valid[\"label\"]\n",
    "X_valid = valid.drop(labels = [\"label\"], axis = 1)\n",
    "X_valid = X_valid / 255.0\n",
    "\n",
    "X_test = test / 255.0"
   ]
  },
  {
   "cell_type": "code",
   "execution_count": 7,
   "id": "9c7c08b3",
   "metadata": {
    "execution": {
     "iopub.execute_input": "2023-08-04T14:15:20.037941Z",
     "iopub.status.busy": "2023-08-04T14:15:20.037608Z",
     "iopub.status.idle": "2023-08-04T14:15:20.043093Z",
     "shell.execute_reply": "2023-08-04T14:15:20.042068Z"
    },
    "papermill": {
     "duration": 0.016895,
     "end_time": "2023-08-04T14:15:20.045258",
     "exception": false,
     "start_time": "2023-08-04T14:15:20.028363",
     "status": "completed"
    },
    "tags": []
   },
   "outputs": [],
   "source": [
    "# Data Augmentation and convertion to pytorch format (C, H, W)\n",
    "transforms = torchvision.transforms.Compose([\n",
    "    torchvision.transforms.RandomAffine(degrees=10, translate=(0.1, 0.1), scale=(0.8, 1.2)),\n",
    "])"
   ]
  },
  {
   "cell_type": "code",
   "execution_count": 8,
   "id": "0a2e85bd",
   "metadata": {
    "execution": {
     "iopub.execute_input": "2023-08-04T14:15:20.062997Z",
     "iopub.status.busy": "2023-08-04T14:15:20.062675Z",
     "iopub.status.idle": "2023-08-04T14:15:20.069074Z",
     "shell.execute_reply": "2023-08-04T14:15:20.068133Z"
    },
    "papermill": {
     "duration": 0.017898,
     "end_time": "2023-08-04T14:15:20.071211",
     "exception": false,
     "start_time": "2023-08-04T14:15:20.053313",
     "status": "completed"
    },
    "tags": []
   },
   "outputs": [],
   "source": [
    "from torch.utils.data import Dataset\n",
    "\n",
    "class MnistDataset(Dataset):\n",
    "    def __init__(self, X, Y, transform=None):\n",
    "        self.X = X\n",
    "        self.Y = Y\n",
    "        self.transform = transform\n",
    "\n",
    "    def __len__(self):\n",
    "        return len(self.X)\n",
    "\n",
    "    def __getitem__(self, idx):\n",
    "        image = self.X[idx]\n",
    "        label = self.Y[idx]\n",
    "        \n",
    "        if self.transform:\n",
    "            image = self.transform(image)\n",
    "\n",
    "        return image, label\n"
   ]
  },
  {
   "cell_type": "code",
   "execution_count": 9,
   "id": "4acde2d4",
   "metadata": {
    "execution": {
     "iopub.execute_input": "2023-08-04T14:15:20.089281Z",
     "iopub.status.busy": "2023-08-04T14:15:20.088925Z",
     "iopub.status.idle": "2023-08-04T14:15:23.125829Z",
     "shell.execute_reply": "2023-08-04T14:15:23.124793Z"
    },
    "papermill": {
     "duration": 3.04854,
     "end_time": "2023-08-04T14:15:23.128128",
     "exception": false,
     "start_time": "2023-08-04T14:15:20.079588",
     "status": "completed"
    },
    "tags": []
   },
   "outputs": [
    {
     "name": "stdout",
     "output_type": "stream",
     "text": [
      "torch.Size([37800, 1, 28, 28])\n",
      "(37800,)\n",
      "torch.Size([4200, 1, 28, 28])\n",
      "(4200,)\n",
      "torch.Size([28000, 1, 28, 28])\n",
      "torch.Size([37800, 10])\n",
      "torch.Size([4200, 10])\n"
     ]
    }
   ],
   "source": [
    "device = \"cuda\" if torch.cuda.is_available() else \"cpu\"\n",
    "\n",
    "X_train = torch.tensor(X_train.values.reshape(-1, 1, 28, 28)).to(device).float()\n",
    "X_valid = torch.tensor(X_valid.values.reshape(-1, 1, 28, 28)).to(device).float()\n",
    "X_test = torch.tensor(X_test.values.reshape(-1, 1, 28, 28)).to(device).float()\n",
    "\n",
    "print(X_train.shape)\n",
    "print(Y_train.shape)\n",
    "print(X_valid.shape)\n",
    "print(Y_valid.shape)\n",
    "print(X_test.shape)\n",
    "\n",
    "Y_train = F.one_hot(torch.tensor(Y_train.values), 10).float().to(device)\n",
    "Y_valid = F.one_hot(torch.tensor(Y_valid.values), 10).float().to(device)\n",
    "\n",
    "print(Y_train.shape)\n",
    "print(Y_valid.shape)"
   ]
  },
  {
   "cell_type": "code",
   "execution_count": 10,
   "id": "b647d3bd",
   "metadata": {
    "execution": {
     "iopub.execute_input": "2023-08-04T14:15:23.146898Z",
     "iopub.status.busy": "2023-08-04T14:15:23.146210Z",
     "iopub.status.idle": "2023-08-04T14:15:23.150683Z",
     "shell.execute_reply": "2023-08-04T14:15:23.149766Z"
    },
    "papermill": {
     "duration": 0.016239,
     "end_time": "2023-08-04T14:15:23.152941",
     "exception": false,
     "start_time": "2023-08-04T14:15:23.136702",
     "status": "completed"
    },
    "tags": []
   },
   "outputs": [],
   "source": [
    "# hyper params\n",
    "dropout_p = 0.4\n",
    "learning_rate = 1e-3\n",
    "batch_size = 256"
   ]
  },
  {
   "cell_type": "code",
   "execution_count": 11,
   "id": "e4dfbde4",
   "metadata": {
    "execution": {
     "iopub.execute_input": "2023-08-04T14:15:23.171705Z",
     "iopub.status.busy": "2023-08-04T14:15:23.170813Z",
     "iopub.status.idle": "2023-08-04T14:15:23.185880Z",
     "shell.execute_reply": "2023-08-04T14:15:23.184928Z"
    },
    "papermill": {
     "duration": 0.02675,
     "end_time": "2023-08-04T14:15:23.188098",
     "exception": false,
     "start_time": "2023-08-04T14:15:23.161348",
     "status": "completed"
    },
    "tags": []
   },
   "outputs": [],
   "source": [
    "# Datasets for tuning\n",
    "train_dataset = MnistDataset(X_train, Y_train, transforms)\n",
    "train_loader = DataLoader(train_dataset, batch_size=batch_size, shuffle=True)\n",
    "valid_dataset = TensorDataset(X_valid, Y_valid)\n",
    "valid_loader = DataLoader(valid_dataset, batch_size=batch_size, shuffle=False)\n",
    "\n",
    "# Dataset for full training and squeezing max perf\n",
    "full_dataset = MnistDataset(torch.cat((X_train, X_valid), 0), torch.cat((Y_train, Y_valid), 0), transforms)\n",
    "full_loader = DataLoader(train_dataset, batch_size=batch_size, shuffle=True)\n",
    "\n",
    "test_dataset = TensorDataset(X_test)\n",
    "test_loader = DataLoader(test_dataset, batch_size=batch_size, shuffle=False)"
   ]
  },
  {
   "cell_type": "code",
   "execution_count": 12,
   "id": "8113bbc8",
   "metadata": {
    "execution": {
     "iopub.execute_input": "2023-08-04T14:15:23.206976Z",
     "iopub.status.busy": "2023-08-04T14:15:23.206040Z",
     "iopub.status.idle": "2023-08-04T14:15:23.215419Z",
     "shell.execute_reply": "2023-08-04T14:15:23.214455Z"
    },
    "papermill": {
     "duration": 0.020918,
     "end_time": "2023-08-04T14:15:23.217417",
     "exception": false,
     "start_time": "2023-08-04T14:15:23.196499",
     "status": "completed"
    },
    "tags": []
   },
   "outputs": [],
   "source": [
    "# From https://arxiv.org/pdf/2001.08856v1.pdf\n",
    "class Model(nn.Module):\n",
    "    def __init__(self):\n",
    "        super().__init__()\n",
    "        self.net = nn.Sequential(                   # Input (B, C, H, W) = (B,   1, 28, 28)\n",
    "            nn.Conv2d(in_channels=1, out_channels=32, kernel_size=3),    # (B,  32, 26, 26)\n",
    "            nn.ReLU(),                                                   # (B,  32, 26, 26)\n",
    "            nn.Conv2d(in_channels=32, out_channels=64, kernel_size=3),   # (B,  64, 24, 24)\n",
    "            nn.ReLU(),                                                   # (B,  64, 24, 24)\n",
    "            nn.MaxPool2d(kernel_size=2, stride=2),                       # (B,  64, 12, 12)\n",
    "            \n",
    "            nn.Conv2d(in_channels=64, out_channels=128, kernel_size=3),  # (B, 128, 10, 10)\n",
    "            nn.ReLU(),                                                   # (B, 128, 10, 10)\n",
    "            nn.Conv2d(in_channels=128, out_channels=256, kernel_size=3), # (B, 256,  8,  8)\n",
    "            nn.ReLU(),                                                   # (B, 256,  8,  8)\n",
    "            nn.MaxPool2d(kernel_size=2, stride=2),                       # (B, 256,  4,  4)\n",
    "            \n",
    "            nn.Flatten(),                                                # (B, 4_096)\n",
    "            \n",
    "            nn.Linear(in_features=4_096, out_features=128),              # (B,   128)\n",
    "            nn.Dropout(p=dropout_p),\n",
    "            nn.Linear(in_features=128, out_features=10),                 # (B,    10) = Output Layer\n",
    "        )\n",
    "        \n",
    "    def forward(self, x):\n",
    "        return self.net(x)"
   ]
  },
  {
   "cell_type": "code",
   "execution_count": 13,
   "id": "5edfad66",
   "metadata": {
    "execution": {
     "iopub.execute_input": "2023-08-04T14:15:23.235373Z",
     "iopub.status.busy": "2023-08-04T14:15:23.235003Z",
     "iopub.status.idle": "2023-08-04T14:15:23.242851Z",
     "shell.execute_reply": "2023-08-04T14:15:23.241921Z"
    },
    "papermill": {
     "duration": 0.019327,
     "end_time": "2023-08-04T14:15:23.245014",
     "exception": false,
     "start_time": "2023-08-04T14:15:23.225687",
     "status": "completed"
    },
    "tags": []
   },
   "outputs": [],
   "source": [
    "def train(model, optimizer, data_loader, epoch, log=False):\n",
    "    model.train()\n",
    "    correct = 0\n",
    "    total = 0\n",
    "    for x, y in data_loader:\n",
    "        optimizer.zero_grad()\n",
    "        out = model(x)\n",
    "        loss = F.cross_entropy(out, y)\n",
    "        loss.backward()\n",
    "        optimizer.step()\n",
    "        pred = out.argmax(dim=-1)\n",
    "        target = y.argmax(dim=-1)\n",
    "        correct += (pred == target).sum().item()\n",
    "        total += target.shape[0]\n",
    "        \n",
    "    accuracy = correct / total * 100.0\n",
    "    if log:\n",
    "        print(f\"Epoch {epoch}: Train loss {loss.item()}, Train accuracy {correct}/{total} = {accuracy}\")\n",
    "    return loss.item(), accuracy"
   ]
  },
  {
   "cell_type": "code",
   "execution_count": 14,
   "id": "a8fb3a14",
   "metadata": {
    "execution": {
     "iopub.execute_input": "2023-08-04T14:15:23.263328Z",
     "iopub.status.busy": "2023-08-04T14:15:23.262983Z",
     "iopub.status.idle": "2023-08-04T14:15:23.270223Z",
     "shell.execute_reply": "2023-08-04T14:15:23.269263Z"
    },
    "papermill": {
     "duration": 0.018643,
     "end_time": "2023-08-04T14:15:23.272202",
     "exception": false,
     "start_time": "2023-08-04T14:15:23.253559",
     "status": "completed"
    },
    "tags": []
   },
   "outputs": [],
   "source": [
    "def validate(model, data_loader, epoch, log=False):\n",
    "    model.eval()\n",
    "    correct = 0\n",
    "    total = 0\n",
    "    with torch.no_grad():\n",
    "        for x, y in data_loader:\n",
    "            out = model(x)\n",
    "            loss = F.cross_entropy(out, y)\n",
    "            pred = out.argmax(dim=-1)\n",
    "            target = y.argmax(dim=-1)\n",
    "            correct += (pred == target).sum().item()\n",
    "            total += target.shape[0]\n",
    "        \n",
    "    accuracy = correct / total * 100.0\n",
    "    if log:\n",
    "        print(f\"Epoch {epoch}: Validation loss {loss.item()}, Validation accuracy {correct}/{total} = {accuracy}\")\n",
    "    return loss.item(), accuracy"
   ]
  },
  {
   "cell_type": "code",
   "execution_count": 15,
   "id": "6c204473",
   "metadata": {
    "execution": {
     "iopub.execute_input": "2023-08-04T14:15:23.290623Z",
     "iopub.status.busy": "2023-08-04T14:15:23.289716Z",
     "iopub.status.idle": "2023-08-04T14:15:23.297380Z",
     "shell.execute_reply": "2023-08-04T14:15:23.296434Z"
    },
    "papermill": {
     "duration": 0.018966,
     "end_time": "2023-08-04T14:15:23.299432",
     "exception": false,
     "start_time": "2023-08-04T14:15:23.280466",
     "status": "completed"
    },
    "tags": []
   },
   "outputs": [],
   "source": [
    "def training_loop(model, optimizer, train_loader, scheduler, total_epochs, validation_loader=None):\n",
    "    training_loss_history = []\n",
    "    training_accuracy_history = []\n",
    "    validation_loss_history = []\n",
    "    training_accuracy_history = []\n",
    "    for epoch in range(1, total_epochs + 1):\n",
    "        training_loss, training_accuracy = train(model, optimizer, train_loader, epoch)\n",
    "        training_loss_history.append(training_loss)\n",
    "        training_accuracy_history.append(training_accuracy)\n",
    "        \n",
    "        if validation_loader:\n",
    "            validation_loss, validation_accuracy = validate(model, validation_loader, epoch)\n",
    "            validation_loss_history.append(validation_loss)\n",
    "            training_accuracy_history.append(validation_accuracy)\n",
    "\n",
    "        scheduler.step()\n",
    "\n",
    "        print(f\"Epoch [{epoch}/{total_epochs}]: Loss {training_loss}, Accuracy {training_accuracy}\")\n",
    "    return training_loss_history, training_accuracy_history, validation_loss_history, training_accuracy_history"
   ]
  },
  {
   "cell_type": "code",
   "execution_count": 16,
   "id": "8e25bace",
   "metadata": {
    "execution": {
     "iopub.execute_input": "2023-08-04T14:15:23.318184Z",
     "iopub.status.busy": "2023-08-04T14:15:23.317287Z",
     "iopub.status.idle": "2023-08-04T14:38:17.168972Z",
     "shell.execute_reply": "2023-08-04T14:38:17.166779Z"
    },
    "papermill": {
     "duration": 1373.863466,
     "end_time": "2023-08-04T14:38:17.171110",
     "exception": false,
     "start_time": "2023-08-04T14:15:23.307644",
     "status": "completed"
    },
    "tags": []
   },
   "outputs": [
    {
     "name": "stdout",
     "output_type": "stream",
     "text": [
      "Epoch [1/50]: Loss 0.218543142080307, Accuracy 79.42592592592592\n",
      "Epoch [2/50]: Loss 0.2230413407087326, Accuracy 94.71164021164022\n",
      "Epoch [3/50]: Loss 0.19713006913661957, Accuracy 96.41534391534393\n",
      "Epoch [4/50]: Loss 0.21873174607753754, Accuracy 97.05291005291005\n",
      "Epoch [5/50]: Loss 0.08607237040996552, Accuracy 97.4920634920635\n",
      "Epoch [6/50]: Loss 0.09605548530817032, Accuracy 97.74603174603175\n",
      "Epoch [7/50]: Loss 0.029177457094192505, Accuracy 97.9920634920635\n",
      "Epoch [8/50]: Loss 0.030325323343276978, Accuracy 98.14285714285714\n",
      "Epoch [9/50]: Loss 0.1324024349451065, Accuracy 98.29365079365078\n",
      "Epoch [10/50]: Loss 0.04285662993788719, Accuracy 98.5132275132275\n",
      "Epoch [11/50]: Loss 0.04908665642142296, Accuracy 98.62169312169313\n",
      "Epoch [12/50]: Loss 0.14946754276752472, Accuracy 98.57671957671957\n",
      "Epoch [13/50]: Loss 0.00934088509529829, Accuracy 98.65343915343915\n",
      "Epoch [14/50]: Loss 0.06283818930387497, Accuracy 98.86243386243386\n",
      "Epoch [15/50]: Loss 0.03566177934408188, Accuracy 98.93650793650794\n",
      "Epoch [16/50]: Loss 0.10995489358901978, Accuracy 98.85714285714286\n",
      "Epoch [17/50]: Loss 0.046961721032857895, Accuracy 98.94708994708995\n",
      "Epoch [18/50]: Loss 0.01969679445028305, Accuracy 98.88888888888889\n",
      "Epoch [19/50]: Loss 0.055816423147916794, Accuracy 99.02116402116403\n",
      "Epoch [20/50]: Loss 0.024336926639080048, Accuracy 99.02116402116403\n",
      "Epoch [21/50]: Loss 0.04454593360424042, Accuracy 99.13227513227513\n",
      "Epoch [22/50]: Loss 0.03966023027896881, Accuracy 99.06878306878308\n",
      "Epoch [23/50]: Loss 0.023847637698054314, Accuracy 99.11640211640211\n",
      "Epoch [24/50]: Loss 0.01686759479343891, Accuracy 99.07936507936508\n",
      "Epoch [25/50]: Loss 0.020212378352880478, Accuracy 99.22486772486772\n",
      "Epoch [26/50]: Loss 0.025152655318379402, Accuracy 99.2010582010582\n",
      "Epoch [27/50]: Loss 0.04945388808846474, Accuracy 99.21428571428571\n",
      "Epoch [28/50]: Loss 0.019057217985391617, Accuracy 99.28042328042328\n",
      "Epoch [29/50]: Loss 0.022977914661169052, Accuracy 99.23544973544973\n",
      "Epoch [30/50]: Loss 0.030595172196626663, Accuracy 99.24338624338624\n",
      "Epoch [31/50]: Loss 0.011628497391939163, Accuracy 99.28306878306879\n",
      "Epoch [32/50]: Loss 0.010169622488319874, Accuracy 99.23544973544973\n",
      "Epoch [33/50]: Loss 0.01574157364666462, Accuracy 99.32804232804233\n",
      "Epoch [34/50]: Loss 0.02863534539937973, Accuracy 99.39417989417989\n",
      "Epoch [35/50]: Loss 0.07814106345176697, Accuracy 99.38359788359789\n",
      "Epoch [36/50]: Loss 0.028684446588158607, Accuracy 99.36772486772487\n",
      "Epoch [37/50]: Loss 0.0724688395857811, Accuracy 99.3862433862434\n",
      "Epoch [38/50]: Loss 0.04771421104669571, Accuracy 99.37566137566137\n",
      "Epoch [39/50]: Loss 0.010211685672402382, Accuracy 99.39417989417989\n",
      "Epoch [40/50]: Loss 0.029737476259469986, Accuracy 99.4021164021164\n",
      "Epoch [41/50]: Loss 0.021325908601284027, Accuracy 99.4021164021164\n",
      "Epoch [42/50]: Loss 0.016219329088926315, Accuracy 99.44708994708995\n",
      "Epoch [43/50]: Loss 0.014075025916099548, Accuracy 99.44444444444444\n",
      "Epoch [44/50]: Loss 0.13631108403205872, Accuracy 99.5026455026455\n",
      "Epoch [45/50]: Loss 0.014633312821388245, Accuracy 99.47354497354497\n",
      "Epoch [46/50]: Loss 0.005645254626870155, Accuracy 99.42328042328043\n",
      "Epoch [47/50]: Loss 0.03300921246409416, Accuracy 99.5132275132275\n",
      "Epoch [48/50]: Loss 0.004737637471407652, Accuracy 99.44444444444444\n",
      "Epoch [49/50]: Loss 0.01872340776026249, Accuracy 99.4920634920635\n",
      "Epoch [50/50]: Loss 0.029115717858076096, Accuracy 99.4126984126984\n"
     ]
    }
   ],
   "source": [
    "model = Model().to(device)\n",
    "# model = torch.compile(model)\n",
    "optimizer = torch.optim.AdamW(model.parameters(), lr=learning_rate)\n",
    "scheduler = torch.optim.lr_scheduler.ExponentialLR(optimizer, 0.95)\n",
    "# histories = training_loop(model, optimizer, train_loader, scheduler, 50, valid_loader) # When validating\n",
    "histories = training_loop(model, optimizer, full_loader, scheduler, 50) # Full training to squeeze perf"
   ]
  },
  {
   "cell_type": "code",
   "execution_count": 17,
   "id": "225e5067",
   "metadata": {
    "execution": {
     "iopub.execute_input": "2023-08-04T14:38:17.198318Z",
     "iopub.status.busy": "2023-08-04T14:38:17.196444Z",
     "iopub.status.idle": "2023-08-04T14:38:17.902331Z",
     "shell.execute_reply": "2023-08-04T14:38:17.901385Z"
    },
    "papermill": {
     "duration": 0.721412,
     "end_time": "2023-08-04T14:38:17.904525",
     "exception": false,
     "start_time": "2023-08-04T14:38:17.183113",
     "status": "completed"
    },
    "tags": []
   },
   "outputs": [
    {
     "data": {
      "text/plain": [
       "<matplotlib.legend.Legend at 0x7e52d15855d0>"
      ]
     },
     "execution_count": 17,
     "metadata": {},
     "output_type": "execute_result"
    },
    {
     "data": {
      "image/png": "[encoded data removed]",
      "text/plain": [
       "<Figure size 640x480 with 1 Axes>"
      ]
     },
     "metadata": {},
     "output_type": "display_data"
    },
    {
     "data": {
      "image/png": "[encoded data removed]",
      "text/plain": [
       "<Figure size 640x480 with 1 Axes>"
      ]
     },
     "metadata": {},
     "output_type": "display_data"
    }
   ],
   "source": [
    "fig, ax = plt.subplots()\n",
    "ax.plot(histories[0], label=\"Training Loss\")\n",
    "ax.plot(histories[2], label=\"Validation Loss\")\n",
    "ax.set_title(\"Losses history\")\n",
    "ax.set_xlabel('Epoch')\n",
    "ax.set_ylabel('Loss')\n",
    "ax.legend()\n",
    "\n",
    "fig, ax = plt.subplots()\n",
    "ax.plot(histories[1], label=\"Training Accuracy\")\n",
    "ax.plot(histories[3], label=\"Validation Accuracy\")\n",
    "ax.set_title(\"Accuracy history\")\n",
    "ax.set_xlabel('Epoch')\n",
    "ax.set_ylabel('Accuracy')\n",
    "ax.legend()"
   ]
  },
  {
   "cell_type": "code",
   "execution_count": 18,
   "id": "3a545f23",
   "metadata": {
    "execution": {
     "iopub.execute_input": "2023-08-04T14:38:17.932708Z",
     "iopub.status.busy": "2023-08-04T14:38:17.932366Z",
     "iopub.status.idle": "2023-08-04T14:38:18.288590Z",
     "shell.execute_reply": "2023-08-04T14:38:18.287458Z"
    },
    "papermill": {
     "duration": 0.373591,
     "end_time": "2023-08-04T14:38:18.291393",
     "exception": false,
     "start_time": "2023-08-04T14:38:17.917802",
     "status": "completed"
    },
    "tags": []
   },
   "outputs": [
    {
     "name": "stdout",
     "output_type": "stream",
     "text": [
      "torch.Size([28000, 10])\n"
     ]
    }
   ],
   "source": [
    "model.eval()  # Set the model to evaluation mode\n",
    "all_preds = []\n",
    "\n",
    "with torch.no_grad():  # Disable gradient computation\n",
    "    for batch in test_loader:\n",
    "        inputs = batch[0].to(device)  # Move inputs to GPU\n",
    "        outputs = model(inputs)\n",
    "        preds = F.softmax(outputs, dim=-1)\n",
    "        all_preds.append(preds)\n",
    "\n",
    "# Concatenate all predictions\n",
    "all_preds = torch.cat(all_preds, dim=0)\n",
    "print(all_preds.shape)"
   ]
  },
  {
   "cell_type": "code",
   "execution_count": 19,
   "id": "52300563",
   "metadata": {
    "execution": {
     "iopub.execute_input": "2023-08-04T14:38:18.318849Z",
     "iopub.status.busy": "2023-08-04T14:38:18.318555Z",
     "iopub.status.idle": "2023-08-04T14:38:18.422530Z",
     "shell.execute_reply": "2023-08-04T14:38:18.421530Z"
    },
    "papermill": {
     "duration": 0.121387,
     "end_time": "2023-08-04T14:38:18.425919",
     "exception": false,
     "start_time": "2023-08-04T14:38:18.304532",
     "status": "completed"
    },
    "tags": []
   },
   "outputs": [
    {
     "name": "stdout",
     "output_type": "stream",
     "text": [
      "tensor([[9.2060e-15, 1.6132e-13, 1.7575e-15, 5.7043e-08, 5.1166e-15, 1.0000e+00,\n",
      "         1.2270e-10, 1.5616e-15, 7.0618e-13, 1.0336e-08],\n",
      "        [1.1659e-08, 3.3622e-07, 3.0000e-05, 7.5655e-07, 6.4628e-09, 6.9760e-10,\n",
      "         1.4743e-10, 9.9996e-01, 1.1471e-09, 3.9061e-06],\n",
      "        [6.0744e-10, 8.4072e-05, 1.6799e-07, 4.4405e-06, 9.9902e-01, 5.7366e-06,\n",
      "         2.3936e-07, 6.0625e-05, 4.9876e-06, 8.1661e-04],\n",
      "        [1.0000e+00, 8.0282e-14, 3.3009e-11, 1.6665e-13, 1.1024e-11, 7.7350e-12,\n",
      "         1.1628e-08, 1.5122e-12, 4.9864e-10, 3.1344e-07],\n",
      "        [1.4013e-13, 2.3964e-07, 2.0348e-11, 1.0059e-12, 1.0000e+00, 3.9327e-11,\n",
      "         2.8668e-09, 1.4799e-08, 2.5289e-10, 2.8520e-06],\n",
      "        [5.1757e-14, 5.8515e-12, 3.1750e-11, 9.9999e-01, 1.7130e-16, 1.4497e-05,\n",
      "         2.5643e-12, 1.0307e-09, 3.3140e-10, 1.2690e-12],\n",
      "        [1.3724e-12, 1.1949e-11, 1.5790e-10, 1.0000e+00, 6.0441e-16, 5.5082e-08,\n",
      "         8.7578e-13, 9.7646e-11, 9.8604e-11, 1.5666e-11],\n",
      "        [3.8541e-07, 9.9994e-01, 1.6549e-07, 6.7587e-10, 3.1726e-05, 2.7928e-07,\n",
      "         4.1973e-06, 2.1114e-05, 2.6033e-09, 4.9344e-06],\n",
      "        [5.1485e-12, 3.6574e-11, 7.4563e-10, 1.3336e-09, 2.6150e-06, 3.6258e-12,\n",
      "         3.4289e-14, 7.1082e-09, 3.4779e-07, 1.0000e+00],\n",
      "        [1.0000e+00, 8.3621e-15, 3.1547e-11, 2.2656e-14, 2.9349e-14, 6.2997e-13,\n",
      "         4.6198e-10, 4.7886e-13, 9.3846e-12, 6.8892e-09]], device='cuda:0')\n"
     ]
    }
   ],
   "source": [
    "print(all_preds[10:20])"
   ]
  },
  {
   "cell_type": "code",
   "execution_count": 20,
   "id": "cad23a46",
   "metadata": {
    "execution": {
     "iopub.execute_input": "2023-08-04T14:38:18.455367Z",
     "iopub.status.busy": "2023-08-04T14:38:18.454413Z",
     "iopub.status.idle": "2023-08-04T14:38:18.459638Z",
     "shell.execute_reply": "2023-08-04T14:38:18.458719Z"
    },
    "papermill": {
     "duration": 0.021803,
     "end_time": "2023-08-04T14:38:18.461681",
     "exception": false,
     "start_time": "2023-08-04T14:38:18.439878",
     "status": "completed"
    },
    "tags": []
   },
   "outputs": [],
   "source": [
    "all_preds = all_preds.argmax(dim=-1)"
   ]
  },
  {
   "cell_type": "code",
   "execution_count": 21,
   "id": "2b450d8c",
   "metadata": {
    "execution": {
     "iopub.execute_input": "2023-08-04T14:38:18.491007Z",
     "iopub.status.busy": "2023-08-04T14:38:18.490084Z",
     "iopub.status.idle": "2023-08-04T14:38:18.496952Z",
     "shell.execute_reply": "2023-08-04T14:38:18.495578Z"
    },
    "papermill": {
     "duration": 0.023935,
     "end_time": "2023-08-04T14:38:18.499074",
     "exception": false,
     "start_time": "2023-08-04T14:38:18.475139",
     "status": "completed"
    },
    "tags": []
   },
   "outputs": [
    {
     "name": "stdout",
     "output_type": "stream",
     "text": [
      "torch.Size([28000]) tensor([2, 0, 9, 0, 3, 7, 0, 3, 0, 3], device='cuda:0')\n"
     ]
    }
   ],
   "source": [
    "print(all_preds.shape, all_preds[:10])"
   ]
  },
  {
   "cell_type": "code",
   "execution_count": 22,
   "id": "faf0c845",
   "metadata": {
    "execution": {
     "iopub.execute_input": "2023-08-04T14:38:18.528369Z",
     "iopub.status.busy": "2023-08-04T14:38:18.527442Z",
     "iopub.status.idle": "2023-08-04T14:38:18.533985Z",
     "shell.execute_reply": "2023-08-04T14:38:18.533104Z"
    },
    "papermill": {
     "duration": 0.02369,
     "end_time": "2023-08-04T14:38:18.536161",
     "exception": false,
     "start_time": "2023-08-04T14:38:18.512471",
     "status": "completed"
    },
    "tags": []
   },
   "outputs": [],
   "source": [
    "out = pd.DataFrame({\"ImageId\": np.arange(1, len(all_preds) + 1), \"Label\": all_preds.cpu().numpy()})"
   ]
  },
  {
   "cell_type": "code",
   "execution_count": 23,
   "id": "568bfc7a",
   "metadata": {
    "execution": {
     "iopub.execute_input": "2023-08-04T14:38:18.565962Z",
     "iopub.status.busy": "2023-08-04T14:38:18.564977Z",
     "iopub.status.idle": "2023-08-04T14:38:18.574757Z",
     "shell.execute_reply": "2023-08-04T14:38:18.573775Z"
    },
    "papermill": {
     "duration": 0.026363,
     "end_time": "2023-08-04T14:38:18.576764",
     "exception": false,
     "start_time": "2023-08-04T14:38:18.550401",
     "status": "completed"
    },
    "tags": []
   },
   "outputs": [
    {
     "data": {
      "text/html": [
       "<div>\n",
       "<style scoped>\n",
       "    .dataframe tbody tr th:only-of-type {\n",
       "        vertical-align: middle;\n",
       "    }\n",
       "\n",
       "    .dataframe tbody tr th {\n",
       "        vertical-align: top;\n",
       "    }\n",
       "\n",
       "    .dataframe thead th {\n",
       "        text-align: right;\n",
       "    }\n",
       "</style>\n",
       "<table border=\"1\" class=\"dataframe\">\n",
       "  <thead>\n",
       "    <tr style=\"text-align: right;\">\n",
       "      <th></th>\n",
       "      <th>ImageId</th>\n",
       "      <th>Label</th>\n",
       "    </tr>\n",
       "  </thead>\n",
       "  <tbody>\n",
       "    <tr>\n",
       "      <th>0</th>\n",
       "      <td>1</td>\n",
       "      <td>2</td>\n",
       "    </tr>\n",
       "    <tr>\n",
       "      <th>1</th>\n",
       "      <td>2</td>\n",
       "      <td>0</td>\n",
       "    </tr>\n",
       "    <tr>\n",
       "      <th>2</th>\n",
       "      <td>3</td>\n",
       "      <td>9</td>\n",
       "    </tr>\n",
       "    <tr>\n",
       "      <th>3</th>\n",
       "      <td>4</td>\n",
       "      <td>0</td>\n",
       "    </tr>\n",
       "    <tr>\n",
       "      <th>4</th>\n",
       "      <td>5</td>\n",
       "      <td>3</td>\n",
       "    </tr>\n",
       "  </tbody>\n",
       "</table>\n",
       "</div>"
      ],
      "text/plain": [
       "   ImageId  Label\n",
       "0        1      2\n",
       "1        2      0\n",
       "2        3      9\n",
       "3        4      0\n",
       "4        5      3"
      ]
     },
     "execution_count": 23,
     "metadata": {},
     "output_type": "execute_result"
    }
   ],
   "source": [
    "out.head()"
   ]
  },
  {
   "cell_type": "code",
   "execution_count": 24,
   "id": "709fe9c8",
   "metadata": {
    "execution": {
     "iopub.execute_input": "2023-08-04T14:38:18.607882Z",
     "iopub.status.busy": "2023-08-04T14:38:18.607039Z",
     "iopub.status.idle": "2023-08-04T14:38:18.616071Z",
     "shell.execute_reply": "2023-08-04T14:38:18.615135Z"
    },
    "papermill": {
     "duration": 0.027595,
     "end_time": "2023-08-04T14:38:18.618274",
     "exception": false,
     "start_time": "2023-08-04T14:38:18.590679",
     "status": "completed"
    },
    "tags": []
   },
   "outputs": [
    {
     "data": {
      "text/html": [
       "<div>\n",
       "<style scoped>\n",
       "    .dataframe tbody tr th:only-of-type {\n",
       "        vertical-align: middle;\n",
       "    }\n",
       "\n",
       "    .dataframe tbody tr th {\n",
       "        vertical-align: top;\n",
       "    }\n",
       "\n",
       "    .dataframe thead th {\n",
       "        text-align: right;\n",
       "    }\n",
       "</style>\n",
       "<table border=\"1\" class=\"dataframe\">\n",
       "  <thead>\n",
       "    <tr style=\"text-align: right;\">\n",
       "      <th></th>\n",
       "      <th>ImageId</th>\n",
       "      <th>Label</th>\n",
       "    </tr>\n",
       "  </thead>\n",
       "  <tbody>\n",
       "    <tr>\n",
       "      <th>27995</th>\n",
       "      <td>27996</td>\n",
       "      <td>9</td>\n",
       "    </tr>\n",
       "    <tr>\n",
       "      <th>27996</th>\n",
       "      <td>27997</td>\n",
       "      <td>7</td>\n",
       "    </tr>\n",
       "    <tr>\n",
       "      <th>27997</th>\n",
       "      <td>27998</td>\n",
       "      <td>3</td>\n",
       "    </tr>\n",
       "    <tr>\n",
       "      <th>27998</th>\n",
       "      <td>27999</td>\n",
       "      <td>9</td>\n",
       "    </tr>\n",
       "    <tr>\n",
       "      <th>27999</th>\n",
       "      <td>28000</td>\n",
       "      <td>2</td>\n",
       "    </tr>\n",
       "  </tbody>\n",
       "</table>\n",
       "</div>"
      ],
      "text/plain": [
       "       ImageId  Label\n",
       "27995    27996      9\n",
       "27996    27997      7\n",
       "27997    27998      3\n",
       "27998    27999      9\n",
       "27999    28000      2"
      ]
     },
     "execution_count": 24,
     "metadata": {},
     "output_type": "execute_result"
    }
   ],
   "source": [
    "out.tail()"
   ]
  },
  {
   "cell_type": "code",
   "execution_count": 25,
   "id": "9eabcb36",
   "metadata": {
    "execution": {
     "iopub.execute_input": "2023-08-04T14:38:18.650548Z",
     "iopub.status.busy": "2023-08-04T14:38:18.649481Z",
     "iopub.status.idle": "2023-08-04T14:38:18.710494Z",
     "shell.execute_reply": "2023-08-04T14:38:18.709472Z"
    },
    "papermill": {
     "duration": 0.079894,
     "end_time": "2023-08-04T14:38:18.713104",
     "exception": false,
     "start_time": "2023-08-04T14:38:18.633210",
     "status": "completed"
    },
    "tags": []
   },
   "outputs": [],
   "source": [
    "out.to_csv('submission.csv', index=False)"
   ]
  },
  {
   "cell_type": "code",
   "execution_count": null,
   "id": "83ae1687",
   "metadata": {
    "papermill": {
     "duration": 0.013425,
     "end_time": "2023-08-04T14:38:18.740761",
     "exception": false,
     "start_time": "2023-08-04T14:38:18.727336",
     "status": "completed"
    },
    "tags": []
   },
   "outputs": [],
   "source": []
  }
 ],
 "metadata": {
  "kernelspec": {
   "display_name": "Python 3",
   "language": "python",
   "name": "python3"
  },
  "language_info": {
   "codemirror_mode": {
    "name": "ipython",
    "version": 3
   },
   "file_extension": ".py",
   "mimetype": "text/x-python",
   "name": "python",
   "nbconvert_exporter": "python",
   "pygments_lexer": "ipython3",
   "version": "3.10.12"
  },
  "papermill": {
   "default_parameters": {},
   "duration": 1404.323089,
   "end_time": "2023-08-04T14:38:21.668823",
   "environment_variables": {},
   "exception": null,
   "input_path": "__notebook__.ipynb",
   "output_path": "__notebook__.ipynb",
   "parameters": {},
   "start_time": "2023-08-04T14:14:57.345734",
   "version": "2.4.0"
  }
 },
 "nbformat": 4,
 "nbformat_minor": 5
}
